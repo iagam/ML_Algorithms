{
 "cells": [
  {
   "cell_type": "code",
   "execution_count": 6,
   "metadata": {},
   "outputs": [],
   "source": [
    "import surprise\n",
    "from surprise import Dataset\n",
    "from surprise import KNNWithMeans\n",
    "from surprise import accuracy\n",
    "from surprise import Reader\n",
    "from surprise.model_selection import train_test_split\n",
    "import pandas as pd\n",
    "import numpy as np\n",
    "import matplotlib.pyplot as plt\n",
    "import seaborn as sns"
   ]
  },
  {
   "cell_type": "code",
   "execution_count": 5,
   "metadata": {},
   "outputs": [
    {
     "data": {
      "text/html": [
       "<div>\n",
       "<style scoped>\n",
       "    .dataframe tbody tr th:only-of-type {\n",
       "        vertical-align: middle;\n",
       "    }\n",
       "\n",
       "    .dataframe tbody tr th {\n",
       "        vertical-align: top;\n",
       "    }\n",
       "\n",
       "    .dataframe thead th {\n",
       "        text-align: right;\n",
       "    }\n",
       "</style>\n",
       "<table border=\"1\" class=\"dataframe\">\n",
       "  <thead>\n",
       "    <tr style=\"text-align: right;\">\n",
       "      <th></th>\n",
       "      <th>User ID</th>\n",
       "      <th>Movie ID</th>\n",
       "      <th>Rating</th>\n",
       "    </tr>\n",
       "  </thead>\n",
       "  <tbody>\n",
       "    <tr>\n",
       "      <th>0</th>\n",
       "      <td>1</td>\n",
       "      <td>1</td>\n",
       "      <td>5</td>\n",
       "    </tr>\n",
       "    <tr>\n",
       "      <th>1</th>\n",
       "      <td>1</td>\n",
       "      <td>2</td>\n",
       "      <td>6</td>\n",
       "    </tr>\n",
       "    <tr>\n",
       "      <th>2</th>\n",
       "      <td>1</td>\n",
       "      <td>3</td>\n",
       "      <td>7</td>\n",
       "    </tr>\n",
       "    <tr>\n",
       "      <th>3</th>\n",
       "      <td>1</td>\n",
       "      <td>4</td>\n",
       "      <td>4</td>\n",
       "    </tr>\n",
       "    <tr>\n",
       "      <th>4</th>\n",
       "      <td>1</td>\n",
       "      <td>5</td>\n",
       "      <td>3</td>\n",
       "    </tr>\n",
       "  </tbody>\n",
       "</table>\n",
       "</div>"
      ],
      "text/plain": [
       "   User ID  Movie ID  Rating\n",
       "0        1         1       5\n",
       "1        1         2       6\n",
       "2        1         3       7\n",
       "3        1         4       4\n",
       "4        1         5       3"
      ]
     },
     "execution_count": 5,
     "metadata": {},
     "output_type": "execute_result"
    }
   ],
   "source": [
    "rating = pd.read_csv('D:/ML Datasets/rating.csv')\n",
    "rating.head()"
   ]
  },
  {
   "cell_type": "code",
   "execution_count": 19,
   "metadata": {},
   "outputs": [
    {
     "data": {
      "text/html": [
       "<div>\n",
       "<style scoped>\n",
       "    .dataframe tbody tr th:only-of-type {\n",
       "        vertical-align: middle;\n",
       "    }\n",
       "\n",
       "    .dataframe tbody tr th {\n",
       "        vertical-align: top;\n",
       "    }\n",
       "\n",
       "    .dataframe thead th {\n",
       "        text-align: right;\n",
       "    }\n",
       "</style>\n",
       "<table border=\"1\" class=\"dataframe\">\n",
       "  <thead>\n",
       "    <tr style=\"text-align: right;\">\n",
       "      <th>Movie ID</th>\n",
       "      <th>1</th>\n",
       "      <th>2</th>\n",
       "      <th>3</th>\n",
       "      <th>4</th>\n",
       "      <th>5</th>\n",
       "      <th>6</th>\n",
       "    </tr>\n",
       "    <tr>\n",
       "      <th>User ID</th>\n",
       "      <th></th>\n",
       "      <th></th>\n",
       "      <th></th>\n",
       "      <th></th>\n",
       "      <th></th>\n",
       "      <th></th>\n",
       "    </tr>\n",
       "  </thead>\n",
       "  <tbody>\n",
       "    <tr>\n",
       "      <th>1</th>\n",
       "      <td>5.0</td>\n",
       "      <td>6.0</td>\n",
       "      <td>7.0</td>\n",
       "      <td>4.0</td>\n",
       "      <td>3.0</td>\n",
       "      <td>NaN</td>\n",
       "    </tr>\n",
       "    <tr>\n",
       "      <th>2</th>\n",
       "      <td>4.0</td>\n",
       "      <td>NaN</td>\n",
       "      <td>5.0</td>\n",
       "      <td>NaN</td>\n",
       "      <td>5.0</td>\n",
       "      <td>4.0</td>\n",
       "    </tr>\n",
       "    <tr>\n",
       "      <th>3</th>\n",
       "      <td>NaN</td>\n",
       "      <td>3.0</td>\n",
       "      <td>4.0</td>\n",
       "      <td>1.0</td>\n",
       "      <td>1.0</td>\n",
       "      <td>NaN</td>\n",
       "    </tr>\n",
       "    <tr>\n",
       "      <th>4</th>\n",
       "      <td>7.0</td>\n",
       "      <td>4.0</td>\n",
       "      <td>3.0</td>\n",
       "      <td>6.0</td>\n",
       "      <td>NaN</td>\n",
       "      <td>4.0</td>\n",
       "    </tr>\n",
       "    <tr>\n",
       "      <th>5</th>\n",
       "      <td>1.0</td>\n",
       "      <td>NaN</td>\n",
       "      <td>3.0</td>\n",
       "      <td>2.0</td>\n",
       "      <td>2.0</td>\n",
       "      <td>5.0</td>\n",
       "    </tr>\n",
       "  </tbody>\n",
       "</table>\n",
       "</div>"
      ],
      "text/plain": [
       "Movie ID    1    2    3    4    5    6\n",
       "User ID                               \n",
       "1         5.0  6.0  7.0  4.0  3.0  NaN\n",
       "2         4.0  NaN  5.0  NaN  5.0  4.0\n",
       "3         NaN  3.0  4.0  1.0  1.0  NaN\n",
       "4         7.0  4.0  3.0  6.0  NaN  4.0\n",
       "5         1.0  NaN  3.0  2.0  2.0  5.0"
      ]
     },
     "execution_count": 19,
     "metadata": {},
     "output_type": "execute_result"
    }
   ],
   "source": [
    "rating_pivot = rating.pivot_table(index = 'User ID', columns = 'Movie ID', values = 'Rating' )\n",
    "rating_pivot"
   ]
  },
  {
   "cell_type": "code",
   "execution_count": 7,
   "metadata": {},
   "outputs": [],
   "source": [
    "reader = Reader(rating_scale=(1,10))\n",
    "\n",
    "data = Dataset.load_from_df(rating[['User ID', 'Movie ID', 'Rating']], reader)"
   ]
  },
  {
   "cell_type": "code",
   "execution_count": 15,
   "metadata": {},
   "outputs": [
    {
     "name": "stdout",
     "output_type": "stream",
     "text": [
      "Computing the cosine similarity matrix...\n",
      "Done computing similarity matrix.\n",
      "RMSE: 1.1600\n",
      "RMSE= 1.1600198280043401\n"
     ]
    }
   ],
   "source": [
    "[trainset, testset] = train_test_split(data, test_size=0.15, shuffle=True)\n",
    "\n",
    "recom = KNNWithMeans(k = 50, sim_options={'name':'cosine', 'user-based': True})\n",
    "\n",
    "recom.fit(data.build_full_trainset())      #using full training set and not doing\n",
    "\n",
    "test_pred = recom.test(testset)\n",
    "RMSE = accuracy.rmse(test_pred)\n",
    "print('RMSE=', RMSE)"
   ]
  },
  {
   "cell_type": "code",
   "execution_count": 17,
   "metadata": {},
   "outputs": [
    {
     "name": "stdout",
     "output_type": "stream",
     "text": [
      "The rating value for user 1 movie 6 is:  5.394185729496399\n"
     ]
    }
   ],
   "source": [
    "pre = recom.predict(1,6)\n",
    "print('The rating value for user 1 movie 6 is: ', pre[3])"
   ]
  },
  {
   "cell_type": "code",
   "execution_count": 18,
   "metadata": {},
   "outputs": [
    {
     "name": "stdout",
     "output_type": "stream",
     "text": [
      "The rating value for user 2 movie 2 is:  4.817930889083921\n",
      "The rating value for user 2 movie 4 is:  4.095496050876971\n",
      "The rating value for user 3 movie 1 is:  2.182836935492127\n",
      "The rating value for user 3 movie 4 is:  1.7370594242503914\n",
      "The rating value for user 4 movie 5 is:  3.9781864004198617\n",
      "The rating value for user 5 movie 2 is:  3.0035648451555907\n"
     ]
    }
   ],
   "source": [
    "pre = recom.predict(2,2)\n",
    "print('The rating value for user 2 movie 2 is: ', pre[3])\n",
    "\n",
    "pre = recom.predict(2,4)\n",
    "print('The rating value for user 2 movie 4 is: ', pre[3])\n",
    "\n",
    "pre = recom.predict(3,1)\n",
    "print('The rating value for user 3 movie 1 is: ', pre[3])\n",
    "\n",
    "pre = recom.predict(3,4)\n",
    "print('The rating value for user 3 movie 4 is: ', pre[3])\n",
    "\n",
    "pre = recom.predict(4,5)\n",
    "print('The rating value for user 4 movie 5 is: ', pre[3])\n",
    "\n",
    "pre = recom.predict(5,2)\n",
    "print('The rating value for user 5 movie 2 is: ', pre[3])"
   ]
  },
  {
   "cell_type": "markdown",
   "metadata": {},
   "source": [
    "## Book Dataset"
   ]
  },
  {
   "cell_type": "code",
   "execution_count": 20,
   "metadata": {},
   "outputs": [
    {
     "data": {
      "text/html": [
       "<div>\n",
       "<style scoped>\n",
       "    .dataframe tbody tr th:only-of-type {\n",
       "        vertical-align: middle;\n",
       "    }\n",
       "\n",
       "    .dataframe tbody tr th {\n",
       "        vertical-align: top;\n",
       "    }\n",
       "\n",
       "    .dataframe thead th {\n",
       "        text-align: right;\n",
       "    }\n",
       "</style>\n",
       "<table border=\"1\" class=\"dataframe\">\n",
       "  <thead>\n",
       "    <tr style=\"text-align: right;\">\n",
       "      <th></th>\n",
       "      <th>userID</th>\n",
       "      <th>ISBN</th>\n",
       "      <th>bookRating</th>\n",
       "      <th>bookTitle</th>\n",
       "      <th>totalRatingCount</th>\n",
       "      <th>Location</th>\n",
       "    </tr>\n",
       "  </thead>\n",
       "  <tbody>\n",
       "    <tr>\n",
       "      <th>0</th>\n",
       "      <td>276725</td>\n",
       "      <td>034545104X</td>\n",
       "      <td>0</td>\n",
       "      <td>Flesh Tones: A Novel</td>\n",
       "      <td>60</td>\n",
       "      <td>tyler, texas, usa</td>\n",
       "    </tr>\n",
       "    <tr>\n",
       "      <th>1</th>\n",
       "      <td>2313</td>\n",
       "      <td>034545104X</td>\n",
       "      <td>5</td>\n",
       "      <td>Flesh Tones: A Novel</td>\n",
       "      <td>60</td>\n",
       "      <td>cincinnati, ohio, usa</td>\n",
       "    </tr>\n",
       "    <tr>\n",
       "      <th>2</th>\n",
       "      <td>6543</td>\n",
       "      <td>034545104X</td>\n",
       "      <td>0</td>\n",
       "      <td>Flesh Tones: A Novel</td>\n",
       "      <td>60</td>\n",
       "      <td>strafford, missouri, usa</td>\n",
       "    </tr>\n",
       "    <tr>\n",
       "      <th>3</th>\n",
       "      <td>8680</td>\n",
       "      <td>034545104X</td>\n",
       "      <td>5</td>\n",
       "      <td>Flesh Tones: A Novel</td>\n",
       "      <td>60</td>\n",
       "      <td>st. charles county, missouri, usa</td>\n",
       "    </tr>\n",
       "    <tr>\n",
       "      <th>4</th>\n",
       "      <td>10314</td>\n",
       "      <td>034545104X</td>\n",
       "      <td>9</td>\n",
       "      <td>Flesh Tones: A Novel</td>\n",
       "      <td>60</td>\n",
       "      <td>beaverton, oregon, usa</td>\n",
       "    </tr>\n",
       "  </tbody>\n",
       "</table>\n",
       "</div>"
      ],
      "text/plain": [
       "   userID        ISBN  bookRating             bookTitle  totalRatingCount  \\\n",
       "0  276725  034545104X           0  Flesh Tones: A Novel                60   \n",
       "1    2313  034545104X           5  Flesh Tones: A Novel                60   \n",
       "2    6543  034545104X           0  Flesh Tones: A Novel                60   \n",
       "3    8680  034545104X           5  Flesh Tones: A Novel                60   \n",
       "4   10314  034545104X           9  Flesh Tones: A Novel                60   \n",
       "\n",
       "                            Location  \n",
       "0                  tyler, texas, usa  \n",
       "1              cincinnati, ohio, usa  \n",
       "2           strafford, missouri, usa  \n",
       "3  st. charles county, missouri, usa  \n",
       "4             beaverton, oregon, usa  "
      ]
     },
     "execution_count": 20,
     "metadata": {},
     "output_type": "execute_result"
    }
   ],
   "source": [
    "book = pd.read_csv('C:/Users/DeLL/OneDrive/ML Datasets/book_recom.csv')\n",
    "book.head()"
   ]
  },
  {
   "cell_type": "code",
   "execution_count": 21,
   "metadata": {},
   "outputs": [],
   "source": [
    "book = book[['userID', 'bookTitle', 'bookRating']]"
   ]
  },
  {
   "cell_type": "code",
   "execution_count": 27,
   "metadata": {},
   "outputs": [
    {
     "data": {
      "text/html": [
       "<div>\n",
       "<style scoped>\n",
       "    .dataframe tbody tr th:only-of-type {\n",
       "        vertical-align: middle;\n",
       "    }\n",
       "\n",
       "    .dataframe tbody tr th {\n",
       "        vertical-align: top;\n",
       "    }\n",
       "\n",
       "    .dataframe thead th {\n",
       "        text-align: right;\n",
       "    }\n",
       "</style>\n",
       "<table border=\"1\" class=\"dataframe\">\n",
       "  <thead>\n",
       "    <tr style=\"text-align: right;\">\n",
       "      <th>userID</th>\n",
       "      <th>14</th>\n",
       "      <th>23</th>\n",
       "      <th>26</th>\n",
       "      <th>51</th>\n",
       "      <th>67</th>\n",
       "      <th>99</th>\n",
       "      <th>135</th>\n",
       "      <th>243</th>\n",
       "      <th>254</th>\n",
       "      <th>256</th>\n",
       "      <th>...</th>\n",
       "      <th>278483</th>\n",
       "      <th>278514</th>\n",
       "      <th>278535</th>\n",
       "      <th>278552</th>\n",
       "      <th>278582</th>\n",
       "      <th>278633</th>\n",
       "      <th>278740</th>\n",
       "      <th>278769</th>\n",
       "      <th>278773</th>\n",
       "      <th>278843</th>\n",
       "    </tr>\n",
       "    <tr>\n",
       "      <th>bookTitle</th>\n",
       "      <th></th>\n",
       "      <th></th>\n",
       "      <th></th>\n",
       "      <th></th>\n",
       "      <th></th>\n",
       "      <th></th>\n",
       "      <th></th>\n",
       "      <th></th>\n",
       "      <th></th>\n",
       "      <th></th>\n",
       "      <th></th>\n",
       "      <th></th>\n",
       "      <th></th>\n",
       "      <th></th>\n",
       "      <th></th>\n",
       "      <th></th>\n",
       "      <th></th>\n",
       "      <th></th>\n",
       "      <th></th>\n",
       "      <th></th>\n",
       "      <th></th>\n",
       "    </tr>\n",
       "  </thead>\n",
       "  <tbody>\n",
       "    <tr>\n",
       "      <th>1st to Die: A Novel</th>\n",
       "      <td>0.0</td>\n",
       "      <td>0.0</td>\n",
       "      <td>0.0</td>\n",
       "      <td>0.0</td>\n",
       "      <td>0.0</td>\n",
       "      <td>0.0</td>\n",
       "      <td>0.0</td>\n",
       "      <td>0.0</td>\n",
       "      <td>0.0</td>\n",
       "      <td>0.0</td>\n",
       "      <td>...</td>\n",
       "      <td>0.0</td>\n",
       "      <td>0.0</td>\n",
       "      <td>10.0</td>\n",
       "      <td>0.0</td>\n",
       "      <td>0.0</td>\n",
       "      <td>0.0</td>\n",
       "      <td>0.0</td>\n",
       "      <td>0.0</td>\n",
       "      <td>0.0</td>\n",
       "      <td>0.0</td>\n",
       "    </tr>\n",
       "    <tr>\n",
       "      <th>A Child Called \\It\\\": One Child's Courage to Survive\"</th>\n",
       "      <td>0.0</td>\n",
       "      <td>0.0</td>\n",
       "      <td>0.0</td>\n",
       "      <td>0.0</td>\n",
       "      <td>0.0</td>\n",
       "      <td>0.0</td>\n",
       "      <td>0.0</td>\n",
       "      <td>0.0</td>\n",
       "      <td>0.0</td>\n",
       "      <td>0.0</td>\n",
       "      <td>...</td>\n",
       "      <td>0.0</td>\n",
       "      <td>0.0</td>\n",
       "      <td>0.0</td>\n",
       "      <td>0.0</td>\n",
       "      <td>0.0</td>\n",
       "      <td>0.0</td>\n",
       "      <td>0.0</td>\n",
       "      <td>0.0</td>\n",
       "      <td>0.0</td>\n",
       "      <td>0.0</td>\n",
       "    </tr>\n",
       "    <tr>\n",
       "      <th>A Cold Heart: An Alex Delaware Novel</th>\n",
       "      <td>0.0</td>\n",
       "      <td>0.0</td>\n",
       "      <td>0.0</td>\n",
       "      <td>0.0</td>\n",
       "      <td>0.0</td>\n",
       "      <td>0.0</td>\n",
       "      <td>0.0</td>\n",
       "      <td>0.0</td>\n",
       "      <td>0.0</td>\n",
       "      <td>0.0</td>\n",
       "      <td>...</td>\n",
       "      <td>0.0</td>\n",
       "      <td>0.0</td>\n",
       "      <td>0.0</td>\n",
       "      <td>0.0</td>\n",
       "      <td>0.0</td>\n",
       "      <td>0.0</td>\n",
       "      <td>0.0</td>\n",
       "      <td>0.0</td>\n",
       "      <td>0.0</td>\n",
       "      <td>0.0</td>\n",
       "    </tr>\n",
       "    <tr>\n",
       "      <th>A Kiss of Shadows (Meredith Gentry Novels (Paperback))</th>\n",
       "      <td>0.0</td>\n",
       "      <td>0.0</td>\n",
       "      <td>0.0</td>\n",
       "      <td>0.0</td>\n",
       "      <td>0.0</td>\n",
       "      <td>0.0</td>\n",
       "      <td>0.0</td>\n",
       "      <td>0.0</td>\n",
       "      <td>0.0</td>\n",
       "      <td>0.0</td>\n",
       "      <td>...</td>\n",
       "      <td>0.0</td>\n",
       "      <td>0.0</td>\n",
       "      <td>0.0</td>\n",
       "      <td>0.0</td>\n",
       "      <td>0.0</td>\n",
       "      <td>0.0</td>\n",
       "      <td>0.0</td>\n",
       "      <td>0.0</td>\n",
       "      <td>0.0</td>\n",
       "      <td>0.0</td>\n",
       "    </tr>\n",
       "    <tr>\n",
       "      <th>A Man in Full</th>\n",
       "      <td>0.0</td>\n",
       "      <td>0.0</td>\n",
       "      <td>0.0</td>\n",
       "      <td>0.0</td>\n",
       "      <td>0.0</td>\n",
       "      <td>0.0</td>\n",
       "      <td>0.0</td>\n",
       "      <td>0.0</td>\n",
       "      <td>0.0</td>\n",
       "      <td>0.0</td>\n",
       "      <td>...</td>\n",
       "      <td>0.0</td>\n",
       "      <td>0.0</td>\n",
       "      <td>0.0</td>\n",
       "      <td>0.0</td>\n",
       "      <td>0.0</td>\n",
       "      <td>0.0</td>\n",
       "      <td>0.0</td>\n",
       "      <td>0.0</td>\n",
       "      <td>0.0</td>\n",
       "      <td>0.0</td>\n",
       "    </tr>\n",
       "  </tbody>\n",
       "</table>\n",
       "<p>5 rows × 11337 columns</p>\n",
       "</div>"
      ],
      "text/plain": [
       "userID                                              14      23      26      \\\n",
       "bookTitle                                                                    \n",
       "1st to Die: A Novel                                    0.0     0.0     0.0   \n",
       "A Child Called \\It\\\": One Child's Courage to Su...     0.0     0.0     0.0   \n",
       "A Cold Heart: An Alex Delaware Novel                   0.0     0.0     0.0   \n",
       "A Kiss of Shadows (Meredith Gentry Novels (Pape...     0.0     0.0     0.0   \n",
       "A Man in Full                                          0.0     0.0     0.0   \n",
       "\n",
       "userID                                              51      67      99      \\\n",
       "bookTitle                                                                    \n",
       "1st to Die: A Novel                                    0.0     0.0     0.0   \n",
       "A Child Called \\It\\\": One Child's Courage to Su...     0.0     0.0     0.0   \n",
       "A Cold Heart: An Alex Delaware Novel                   0.0     0.0     0.0   \n",
       "A Kiss of Shadows (Meredith Gentry Novels (Pape...     0.0     0.0     0.0   \n",
       "A Man in Full                                          0.0     0.0     0.0   \n",
       "\n",
       "userID                                              135     243     254     \\\n",
       "bookTitle                                                                    \n",
       "1st to Die: A Novel                                    0.0     0.0     0.0   \n",
       "A Child Called \\It\\\": One Child's Courage to Su...     0.0     0.0     0.0   \n",
       "A Cold Heart: An Alex Delaware Novel                   0.0     0.0     0.0   \n",
       "A Kiss of Shadows (Meredith Gentry Novels (Pape...     0.0     0.0     0.0   \n",
       "A Man in Full                                          0.0     0.0     0.0   \n",
       "\n",
       "userID                                              256     ...  278483  \\\n",
       "bookTitle                                                   ...           \n",
       "1st to Die: A Novel                                    0.0  ...     0.0   \n",
       "A Child Called \\It\\\": One Child's Courage to Su...     0.0  ...     0.0   \n",
       "A Cold Heart: An Alex Delaware Novel                   0.0  ...     0.0   \n",
       "A Kiss of Shadows (Meredith Gentry Novels (Pape...     0.0  ...     0.0   \n",
       "A Man in Full                                          0.0  ...     0.0   \n",
       "\n",
       "userID                                              278514  278535  278552  \\\n",
       "bookTitle                                                                    \n",
       "1st to Die: A Novel                                    0.0    10.0     0.0   \n",
       "A Child Called \\It\\\": One Child's Courage to Su...     0.0     0.0     0.0   \n",
       "A Cold Heart: An Alex Delaware Novel                   0.0     0.0     0.0   \n",
       "A Kiss of Shadows (Meredith Gentry Novels (Pape...     0.0     0.0     0.0   \n",
       "A Man in Full                                          0.0     0.0     0.0   \n",
       "\n",
       "userID                                              278582  278633  278740  \\\n",
       "bookTitle                                                                    \n",
       "1st to Die: A Novel                                    0.0     0.0     0.0   \n",
       "A Child Called \\It\\\": One Child's Courage to Su...     0.0     0.0     0.0   \n",
       "A Cold Heart: An Alex Delaware Novel                   0.0     0.0     0.0   \n",
       "A Kiss of Shadows (Meredith Gentry Novels (Pape...     0.0     0.0     0.0   \n",
       "A Man in Full                                          0.0     0.0     0.0   \n",
       "\n",
       "userID                                              278769  278773  278843  \n",
       "bookTitle                                                                   \n",
       "1st to Die: A Novel                                    0.0     0.0     0.0  \n",
       "A Child Called \\It\\\": One Child's Courage to Su...     0.0     0.0     0.0  \n",
       "A Cold Heart: An Alex Delaware Novel                   0.0     0.0     0.0  \n",
       "A Kiss of Shadows (Meredith Gentry Novels (Pape...     0.0     0.0     0.0  \n",
       "A Man in Full                                          0.0     0.0     0.0  \n",
       "\n",
       "[5 rows x 11337 columns]"
      ]
     },
     "execution_count": 27,
     "metadata": {},
     "output_type": "execute_result"
    }
   ],
   "source": [
    "book_pivot = book.pivot(index = 'bookTitle', columns='userID', values = 'bookRating')\n",
    "book_pivot.fillna(0, inplace=True)\n",
    "book_pivot.head()"
   ]
  },
  {
   "cell_type": "code",
   "execution_count": 28,
   "metadata": {},
   "outputs": [],
   "source": [
    "from scipy.sparse import csr_matrix\n",
    "from sklearn.neighbors import NearestNeighbors\n",
    "import sklearn"
   ]
  },
  {
   "cell_type": "code",
   "execution_count": 29,
   "metadata": {},
   "outputs": [
    {
     "data": {
      "text/plain": [
       "<198x11337 sparse matrix of type '<class 'numpy.float64'>'\n",
       "\twith 11110 stored elements in Compressed Sparse Row format>"
      ]
     },
     "execution_count": 29,
     "metadata": {},
     "output_type": "execute_result"
    }
   ],
   "source": [
    "book_data_matrix = csr_matrix(book_pivot.values)\n",
    "book_data_matrix"
   ]
  },
  {
   "cell_type": "code",
   "execution_count": 30,
   "metadata": {},
   "outputs": [
    {
     "data": {
      "text/plain": [
       "NearestNeighbors(algorithm='brute', leaf_size=30, metric='cosine',\n",
       "                 metric_params=None, n_jobs=None, n_neighbors=5, p=2,\n",
       "                 radius=1.0)"
      ]
     },
     "execution_count": 30,
     "metadata": {},
     "output_type": "execute_result"
    }
   ],
   "source": [
    "model_knn = NearestNeighbors(metric='cosine', algorithm='brute')\n",
    "model_knn.fit(book_data_matrix)"
   ]
  },
  {
   "cell_type": "code",
   "execution_count": 31,
   "metadata": {},
   "outputs": [],
   "source": [
    "query_index=0  #1st book\n",
    "distances, indices = model_knn.kneighbors(\n",
    "                     book_pivot.iloc[query_index, :].values.reshape(1,-1),\n",
    "                     n_neighbors=6)"
   ]
  },
  {
   "cell_type": "code",
   "execution_count": 32,
   "metadata": {},
   "outputs": [
    {
     "data": {
      "text/plain": [
       "array([[0.        , 0.85554748, 0.89964868, 0.90149976, 0.90925394,\n",
       "        0.92285717]])"
      ]
     },
     "execution_count": 32,
     "metadata": {},
     "output_type": "execute_result"
    }
   ],
   "source": [
    "# display the distances\n",
    "distances"
   ]
  },
  {
   "cell_type": "code",
   "execution_count": 33,
   "metadata": {},
   "outputs": [
    {
     "data": {
      "text/plain": [
       "array([[  0, 110,  12, 188,  26,  78]], dtype=int64)"
      ]
     },
     "execution_count": 33,
     "metadata": {},
     "output_type": "execute_result"
    }
   ],
   "source": [
    "# display respective book indices\n",
    "indices"
   ]
  },
  {
   "cell_type": "code",
   "execution_count": 50,
   "metadata": {},
   "outputs": [
    {
     "data": {
      "text/plain": [
       "array(['1st to Die: A Novel', 'Roses Are Red (Alex Cross Novels)',\n",
       "       'Along Came a Spider (Alex Cross Novels)', 'Violets Are Blue',\n",
       "       'Cat &amp; Mouse (Alex Cross Novels)',\n",
       "       'Jack &amp; Jill (Alex Cross Novels)'], dtype=object)"
      ]
     },
     "execution_count": 50,
     "metadata": {},
     "output_type": "execute_result"
    }
   ],
   "source": [
    "book_pivot.index[indices][0]"
   ]
  },
  {
   "cell_type": "code",
   "execution_count": 47,
   "metadata": {},
   "outputs": [
    {
     "name": "stdout",
     "output_type": "stream",
     "text": [
      "Recommendation for 1st to Die: A Novel\n",
      "\n",
      "Roses Are Red (Alex Cross Novels)\n",
      "Along Came a Spider (Alex Cross Novels)\n",
      "Violets Are Blue\n",
      "Cat &amp; Mouse (Alex Cross Novels)\n",
      "Jack &amp; Jill (Alex Cross Novels)\n"
     ]
    }
   ],
   "source": [
    "print('Recommendation for {0}\\n'.format(book_pivot.index[query_index]))\n",
    "for i in indices.flatten()[1:]:\n",
    "    print(book_pivot.index[i])"
   ]
  },
  {
   "cell_type": "code",
   "execution_count": null,
   "metadata": {},
   "outputs": [],
   "source": []
  }
 ],
 "metadata": {
  "kernelspec": {
   "display_name": "Python 3",
   "language": "python",
   "name": "python3"
  },
  "language_info": {
   "codemirror_mode": {
    "name": "ipython",
    "version": 3
   },
   "file_extension": ".py",
   "mimetype": "text/x-python",
   "name": "python",
   "nbconvert_exporter": "python",
   "pygments_lexer": "ipython3",
   "version": "3.7.3"
  }
 },
 "nbformat": 4,
 "nbformat_minor": 2
}
